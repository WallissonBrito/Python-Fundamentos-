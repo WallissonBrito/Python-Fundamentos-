{
 "cells": [
  {
   "cell_type": "code",
   "execution_count": null,
   "id": "6b14b6db",
   "metadata": {},
   "outputs": [],
   "source": [
    "i# DICAS SOBRE PYTHON:\n",
    "# FUNÇÃO input(): Ela recebe como parâmetro uma String que será visível ao usuário, \n",
    "# onde geralmente informa que tipo de informação ele está esperando receber;\n",
    "# FUNÇÃO print(): Ela é a responsável por imprimir os dados e informar os valores no terminal;\n",
    "# MÉTODO split(): permite dividir o conteúdo da variável de acordo com as condições especificadas \n",
    "# em cada parâmetro da função ou com os valores predefinidos por padrão;\n"
   ]
  },
  {
   "cell_type": "code",
   "execution_count": null,
   "id": "d1338210",
   "metadata": {},
   "outputs": [],
   "source": [
    "# Abaixo segue um exemplo de código que você pode ou não utilizar"
   ]
  },
  {
   "cell_type": "code",
   "execution_count": 1,
   "id": "ff0fec3a",
   "metadata": {},
   "outputs": [
    {
     "name": "stdout",
     "output_type": "stream",
     "text": [
      "200 3 8 \n"
     ]
    }
   ],
   "source": [
    "entrada = input().split()\n",
    "\n",
    "distancia = int(entrada[0])\n",
    "diametro1 = int(entrada[1])\n",
    "diametro2 = int(entrada[2])"
   ]
  },
  {
   "cell_type": "code",
   "execution_count": 8,
   "id": "d1db6391",
   "metadata": {},
   "outputs": [
    {
     "name": "stdout",
     "output_type": "stream",
     "text": [
      "18.18\n"
     ]
    }
   ],
   "source": [
    "# TODO: Calcule o ICM da comunicação dos Palatír de Sauron e Saruman, com 2 casas decimais no espaço #em branco abaixo:\n",
    "ICM = round(distancia / (diametro1 + diametro2 ), 2)\n",
    "print('%.2f'%(ICM))"
   ]
  },
  {
   "cell_type": "code",
   "execution_count": null,
   "id": "8e65a91a",
   "metadata": {},
   "outputs": [],
   "source": []
  }
 ],
 "metadata": {
  "kernelspec": {
   "display_name": "Python 3 (ipykernel)",
   "language": "python",
   "name": "python3"
  },
  "language_info": {
   "codemirror_mode": {
    "name": "ipython",
    "version": 3
   },
   "file_extension": ".py",
   "mimetype": "text/x-python",
   "name": "python",
   "nbconvert_exporter": "python",
   "pygments_lexer": "ipython3",
   "version": "3.9.12"
  }
 },
 "nbformat": 4,
 "nbformat_minor": 5
}
