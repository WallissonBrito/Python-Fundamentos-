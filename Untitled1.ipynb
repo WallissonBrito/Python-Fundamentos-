{
 "cells": [
  {
   "cell_type": "code",
   "execution_count": null,
   "id": "e322dcdd",
   "metadata": {},
   "outputs": [],
   "source": [
    "valores = input().split() \n",
    "\n",
    "# TODO:  Calcule a média de cachorros quentes consumidas por participante e imprima o valor com DUAS casas decimais.\n",
    "total_cachorro   = int(valores[0])\n",
    "total_participantes = int(valores[1])\n",
    "\n",
    "media = round((total_cachorro / total_participantes), 2)\n",
    "\n",
    "print(media)"
   ]
  },
  {
   "cell_type": "code",
   "execution_count": 1,
   "id": "900f3e27",
   "metadata": {},
   "outputs": [
    {
     "name": "stdout",
     "output_type": "stream",
     "text": [
      "10 85\n"
     ]
    }
   ],
   "source": [
    "valores = input().split()\n",
    "\n",
    "# TODO:  Calcule quantidade de litros necessária para realizar a viagem e imprima com TRÊS dígitos após o ponto decimal\n",
    "hora_viagem      = int(valores[0])\n",
    "velomedia_viagem = int(valores[1])   "
   ]
  },
  {
   "cell_type": "code",
   "execution_count": 5,
   "id": "965fa642",
   "metadata": {},
   "outputs": [
    {
     "name": "stdout",
     "output_type": "stream",
     "text": [
      "70.833\n"
     ]
    }
   ],
   "source": [
    "\n",
    "\n",
    "consumo_litros = velomedia_viagem / 12\n",
    "resultado = round(hora_viagem * consumo_litros,3)\n",
    "print(resultado)"
   ]
  },
  {
   "cell_type": "code",
   "execution_count": null,
   "id": "e2bb71b0",
   "metadata": {},
   "outputs": [],
   "source": []
  }
 ],
 "metadata": {
  "kernelspec": {
   "display_name": "Python 3 (ipykernel)",
   "language": "python",
   "name": "python3"
  },
  "language_info": {
   "codemirror_mode": {
    "name": "ipython",
    "version": 3
   },
   "file_extension": ".py",
   "mimetype": "text/x-python",
   "name": "python",
   "nbconvert_exporter": "python",
   "pygments_lexer": "ipython3",
   "version": "3.9.12"
  }
 },
 "nbformat": 4,
 "nbformat_minor": 5
}
